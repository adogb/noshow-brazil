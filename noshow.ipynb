{
 "cells": [
  {
   "cell_type": "markdown",
   "id": "standing-adrian",
   "metadata": {},
   "source": [
    "# Project 2 - Investigate a dataset: No-show appointments in Brazil"
   ]
  },
  {
   "cell_type": "markdown",
   "id": "alpine-uncertainty",
   "metadata": {},
   "source": [
    "## Table of Contents\n",
    "<ul>\n",
    "<li><a href=\"#Our-data\">Our data</a></li>\n",
    "<li><a href=\"#Cleaning-the-data\">Cleaning the data</a></li>\n",
    "<li><a href=\"#Exploring-data-and-visualising\">Exploring data and visualising</a></li>\n",
    "<li><a href=\"#Observations\">Observations</a></li>\n",
    "</ul>"
   ]
  },
  {
   "cell_type": "code",
   "execution_count": 323,
   "id": "close-earth",
   "metadata": {},
   "outputs": [],
   "source": [
    "import pandas as pd, numpy as np, matplotlib.pyplot as plt\n",
    "%matplotlib inline\n",
    "\n",
    "df = pd.read_csv(\"data.csv\")"
   ]
  },
  {
   "cell_type": "markdown",
   "id": "boxed-reading",
   "metadata": {},
   "source": [
    "### Our data\n",
    "\n",
    "Below are a few lines of code to explore the dataset. The dataset contains more than 110.000 rows of data describing hospital appointments in Brazil. Each row of data is characterised by a patient ID and an appointment ID (which form a composite key), as well as information on the patient (gender, age, health) and the appointment itself (attended or not, location, sheduling date and appointment date).\n",
    "\n",
    "From there, we can try to answer some questions about the dataset:\n",
    "* How many appointments (in percentage) are missed in average each year?\n",
    "* How are missed appointments distributed by neighbourhood?\n",
    "* Are men or women more likely to miss an appointment?\n",
    "* How do health-related issues impact the incidence of no-show appointments?\n",
    "* Are people with lower social welfare more likely to miss appointments?\n",
    "* Does getting a SMS increase attendance to appointments?\n",
    "* Is the amount of time between planning the appointment and the appointment itself impact the risk of no-show?"
   ]
  },
  {
   "cell_type": "code",
   "execution_count": 324,
   "id": "concrete-accuracy",
   "metadata": {
    "scrolled": false
   },
   "outputs": [
    {
     "data": {
      "text/html": [
       "<div>\n",
       "<style scoped>\n",
       "    .dataframe tbody tr th:only-of-type {\n",
       "        vertical-align: middle;\n",
       "    }\n",
       "\n",
       "    .dataframe tbody tr th {\n",
       "        vertical-align: top;\n",
       "    }\n",
       "\n",
       "    .dataframe thead th {\n",
       "        text-align: right;\n",
       "    }\n",
       "</style>\n",
       "<table border=\"1\" class=\"dataframe\">\n",
       "  <thead>\n",
       "    <tr style=\"text-align: right;\">\n",
       "      <th></th>\n",
       "      <th>PatientId</th>\n",
       "      <th>AppointmentID</th>\n",
       "      <th>Gender</th>\n",
       "      <th>ScheduledDay</th>\n",
       "      <th>AppointmentDay</th>\n",
       "      <th>Age</th>\n",
       "      <th>Neighbourhood</th>\n",
       "      <th>Scholarship</th>\n",
       "      <th>Hipertension</th>\n",
       "      <th>Diabetes</th>\n",
       "      <th>Alcoholism</th>\n",
       "      <th>Handcap</th>\n",
       "      <th>SMS_received</th>\n",
       "      <th>No-show</th>\n",
       "    </tr>\n",
       "  </thead>\n",
       "  <tbody>\n",
       "    <tr>\n",
       "      <th>0</th>\n",
       "      <td>2.987250e+13</td>\n",
       "      <td>5642903</td>\n",
       "      <td>F</td>\n",
       "      <td>2016-04-29T18:38:08Z</td>\n",
       "      <td>2016-04-29T00:00:00Z</td>\n",
       "      <td>62</td>\n",
       "      <td>JARDIM DA PENHA</td>\n",
       "      <td>0</td>\n",
       "      <td>1</td>\n",
       "      <td>0</td>\n",
       "      <td>0</td>\n",
       "      <td>0</td>\n",
       "      <td>0</td>\n",
       "      <td>No</td>\n",
       "    </tr>\n",
       "    <tr>\n",
       "      <th>1</th>\n",
       "      <td>5.589978e+14</td>\n",
       "      <td>5642503</td>\n",
       "      <td>M</td>\n",
       "      <td>2016-04-29T16:08:27Z</td>\n",
       "      <td>2016-04-29T00:00:00Z</td>\n",
       "      <td>56</td>\n",
       "      <td>JARDIM DA PENHA</td>\n",
       "      <td>0</td>\n",
       "      <td>0</td>\n",
       "      <td>0</td>\n",
       "      <td>0</td>\n",
       "      <td>0</td>\n",
       "      <td>0</td>\n",
       "      <td>No</td>\n",
       "    </tr>\n",
       "    <tr>\n",
       "      <th>2</th>\n",
       "      <td>4.262962e+12</td>\n",
       "      <td>5642549</td>\n",
       "      <td>F</td>\n",
       "      <td>2016-04-29T16:19:04Z</td>\n",
       "      <td>2016-04-29T00:00:00Z</td>\n",
       "      <td>62</td>\n",
       "      <td>MATA DA PRAIA</td>\n",
       "      <td>0</td>\n",
       "      <td>0</td>\n",
       "      <td>0</td>\n",
       "      <td>0</td>\n",
       "      <td>0</td>\n",
       "      <td>0</td>\n",
       "      <td>No</td>\n",
       "    </tr>\n",
       "    <tr>\n",
       "      <th>3</th>\n",
       "      <td>8.679512e+11</td>\n",
       "      <td>5642828</td>\n",
       "      <td>F</td>\n",
       "      <td>2016-04-29T17:29:31Z</td>\n",
       "      <td>2016-04-29T00:00:00Z</td>\n",
       "      <td>8</td>\n",
       "      <td>PONTAL DE CAMBURI</td>\n",
       "      <td>0</td>\n",
       "      <td>0</td>\n",
       "      <td>0</td>\n",
       "      <td>0</td>\n",
       "      <td>0</td>\n",
       "      <td>0</td>\n",
       "      <td>No</td>\n",
       "    </tr>\n",
       "    <tr>\n",
       "      <th>4</th>\n",
       "      <td>8.841186e+12</td>\n",
       "      <td>5642494</td>\n",
       "      <td>F</td>\n",
       "      <td>2016-04-29T16:07:23Z</td>\n",
       "      <td>2016-04-29T00:00:00Z</td>\n",
       "      <td>56</td>\n",
       "      <td>JARDIM DA PENHA</td>\n",
       "      <td>0</td>\n",
       "      <td>1</td>\n",
       "      <td>1</td>\n",
       "      <td>0</td>\n",
       "      <td>0</td>\n",
       "      <td>0</td>\n",
       "      <td>No</td>\n",
       "    </tr>\n",
       "  </tbody>\n",
       "</table>\n",
       "</div>"
      ],
      "text/plain": [
       "      PatientId  AppointmentID Gender          ScheduledDay  \\\n",
       "0  2.987250e+13        5642903      F  2016-04-29T18:38:08Z   \n",
       "1  5.589978e+14        5642503      M  2016-04-29T16:08:27Z   \n",
       "2  4.262962e+12        5642549      F  2016-04-29T16:19:04Z   \n",
       "3  8.679512e+11        5642828      F  2016-04-29T17:29:31Z   \n",
       "4  8.841186e+12        5642494      F  2016-04-29T16:07:23Z   \n",
       "\n",
       "         AppointmentDay  Age      Neighbourhood  Scholarship  Hipertension  \\\n",
       "0  2016-04-29T00:00:00Z   62    JARDIM DA PENHA            0             1   \n",
       "1  2016-04-29T00:00:00Z   56    JARDIM DA PENHA            0             0   \n",
       "2  2016-04-29T00:00:00Z   62      MATA DA PRAIA            0             0   \n",
       "3  2016-04-29T00:00:00Z    8  PONTAL DE CAMBURI            0             0   \n",
       "4  2016-04-29T00:00:00Z   56    JARDIM DA PENHA            0             1   \n",
       "\n",
       "   Diabetes  Alcoholism  Handcap  SMS_received No-show  \n",
       "0         0           0        0             0      No  \n",
       "1         0           0        0             0      No  \n",
       "2         0           0        0             0      No  \n",
       "3         0           0        0             0      No  \n",
       "4         1           0        0             0      No  "
      ]
     },
     "execution_count": 324,
     "metadata": {},
     "output_type": "execute_result"
    }
   ],
   "source": [
    "df.head()"
   ]
  },
  {
   "cell_type": "code",
   "execution_count": 325,
   "id": "stopped-prime",
   "metadata": {},
   "outputs": [
    {
     "data": {
      "text/plain": [
       "(110527, 14)"
      ]
     },
     "execution_count": 325,
     "metadata": {},
     "output_type": "execute_result"
    }
   ],
   "source": [
    "df.shape"
   ]
  },
  {
   "cell_type": "code",
   "execution_count": 326,
   "id": "collectible-dinner",
   "metadata": {},
   "outputs": [
    {
     "data": {
      "text/plain": [
       "PatientId         float64\n",
       "AppointmentID       int64\n",
       "Gender             object\n",
       "ScheduledDay       object\n",
       "AppointmentDay     object\n",
       "Age                 int64\n",
       "Neighbourhood      object\n",
       "Scholarship         int64\n",
       "Hipertension        int64\n",
       "Diabetes            int64\n",
       "Alcoholism          int64\n",
       "Handcap             int64\n",
       "SMS_received        int64\n",
       "No-show            object\n",
       "dtype: object"
      ]
     },
     "execution_count": 326,
     "metadata": {},
     "output_type": "execute_result"
    }
   ],
   "source": [
    "df.dtypes"
   ]
  },
  {
   "cell_type": "code",
   "execution_count": 327,
   "id": "steady-threshold",
   "metadata": {},
   "outputs": [
    {
     "data": {
      "text/html": [
       "<div>\n",
       "<style scoped>\n",
       "    .dataframe tbody tr th:only-of-type {\n",
       "        vertical-align: middle;\n",
       "    }\n",
       "\n",
       "    .dataframe tbody tr th {\n",
       "        vertical-align: top;\n",
       "    }\n",
       "\n",
       "    .dataframe thead th {\n",
       "        text-align: right;\n",
       "    }\n",
       "</style>\n",
       "<table border=\"1\" class=\"dataframe\">\n",
       "  <thead>\n",
       "    <tr style=\"text-align: right;\">\n",
       "      <th></th>\n",
       "      <th>PatientId</th>\n",
       "      <th>AppointmentID</th>\n",
       "      <th>Age</th>\n",
       "      <th>Scholarship</th>\n",
       "      <th>Hipertension</th>\n",
       "      <th>Diabetes</th>\n",
       "      <th>Alcoholism</th>\n",
       "      <th>Handcap</th>\n",
       "      <th>SMS_received</th>\n",
       "    </tr>\n",
       "  </thead>\n",
       "  <tbody>\n",
       "    <tr>\n",
       "      <th>count</th>\n",
       "      <td>1.105270e+05</td>\n",
       "      <td>1.105270e+05</td>\n",
       "      <td>110527.000000</td>\n",
       "      <td>110527.000000</td>\n",
       "      <td>110527.000000</td>\n",
       "      <td>110527.000000</td>\n",
       "      <td>110527.000000</td>\n",
       "      <td>110527.000000</td>\n",
       "      <td>110527.000000</td>\n",
       "    </tr>\n",
       "    <tr>\n",
       "      <th>mean</th>\n",
       "      <td>1.474963e+14</td>\n",
       "      <td>5.675305e+06</td>\n",
       "      <td>37.088874</td>\n",
       "      <td>0.098266</td>\n",
       "      <td>0.197246</td>\n",
       "      <td>0.071865</td>\n",
       "      <td>0.030400</td>\n",
       "      <td>0.022248</td>\n",
       "      <td>0.321026</td>\n",
       "    </tr>\n",
       "    <tr>\n",
       "      <th>std</th>\n",
       "      <td>2.560949e+14</td>\n",
       "      <td>7.129575e+04</td>\n",
       "      <td>23.110205</td>\n",
       "      <td>0.297675</td>\n",
       "      <td>0.397921</td>\n",
       "      <td>0.258265</td>\n",
       "      <td>0.171686</td>\n",
       "      <td>0.161543</td>\n",
       "      <td>0.466873</td>\n",
       "    </tr>\n",
       "    <tr>\n",
       "      <th>min</th>\n",
       "      <td>3.921784e+04</td>\n",
       "      <td>5.030230e+06</td>\n",
       "      <td>-1.000000</td>\n",
       "      <td>0.000000</td>\n",
       "      <td>0.000000</td>\n",
       "      <td>0.000000</td>\n",
       "      <td>0.000000</td>\n",
       "      <td>0.000000</td>\n",
       "      <td>0.000000</td>\n",
       "    </tr>\n",
       "    <tr>\n",
       "      <th>25%</th>\n",
       "      <td>4.172614e+12</td>\n",
       "      <td>5.640286e+06</td>\n",
       "      <td>18.000000</td>\n",
       "      <td>0.000000</td>\n",
       "      <td>0.000000</td>\n",
       "      <td>0.000000</td>\n",
       "      <td>0.000000</td>\n",
       "      <td>0.000000</td>\n",
       "      <td>0.000000</td>\n",
       "    </tr>\n",
       "    <tr>\n",
       "      <th>50%</th>\n",
       "      <td>3.173184e+13</td>\n",
       "      <td>5.680573e+06</td>\n",
       "      <td>37.000000</td>\n",
       "      <td>0.000000</td>\n",
       "      <td>0.000000</td>\n",
       "      <td>0.000000</td>\n",
       "      <td>0.000000</td>\n",
       "      <td>0.000000</td>\n",
       "      <td>0.000000</td>\n",
       "    </tr>\n",
       "    <tr>\n",
       "      <th>75%</th>\n",
       "      <td>9.439172e+13</td>\n",
       "      <td>5.725524e+06</td>\n",
       "      <td>55.000000</td>\n",
       "      <td>0.000000</td>\n",
       "      <td>0.000000</td>\n",
       "      <td>0.000000</td>\n",
       "      <td>0.000000</td>\n",
       "      <td>0.000000</td>\n",
       "      <td>1.000000</td>\n",
       "    </tr>\n",
       "    <tr>\n",
       "      <th>max</th>\n",
       "      <td>9.999816e+14</td>\n",
       "      <td>5.790484e+06</td>\n",
       "      <td>115.000000</td>\n",
       "      <td>1.000000</td>\n",
       "      <td>1.000000</td>\n",
       "      <td>1.000000</td>\n",
       "      <td>1.000000</td>\n",
       "      <td>4.000000</td>\n",
       "      <td>1.000000</td>\n",
       "    </tr>\n",
       "  </tbody>\n",
       "</table>\n",
       "</div>"
      ],
      "text/plain": [
       "          PatientId  AppointmentID            Age    Scholarship  \\\n",
       "count  1.105270e+05   1.105270e+05  110527.000000  110527.000000   \n",
       "mean   1.474963e+14   5.675305e+06      37.088874       0.098266   \n",
       "std    2.560949e+14   7.129575e+04      23.110205       0.297675   \n",
       "min    3.921784e+04   5.030230e+06      -1.000000       0.000000   \n",
       "25%    4.172614e+12   5.640286e+06      18.000000       0.000000   \n",
       "50%    3.173184e+13   5.680573e+06      37.000000       0.000000   \n",
       "75%    9.439172e+13   5.725524e+06      55.000000       0.000000   \n",
       "max    9.999816e+14   5.790484e+06     115.000000       1.000000   \n",
       "\n",
       "        Hipertension       Diabetes     Alcoholism        Handcap  \\\n",
       "count  110527.000000  110527.000000  110527.000000  110527.000000   \n",
       "mean        0.197246       0.071865       0.030400       0.022248   \n",
       "std         0.397921       0.258265       0.171686       0.161543   \n",
       "min         0.000000       0.000000       0.000000       0.000000   \n",
       "25%         0.000000       0.000000       0.000000       0.000000   \n",
       "50%         0.000000       0.000000       0.000000       0.000000   \n",
       "75%         0.000000       0.000000       0.000000       0.000000   \n",
       "max         1.000000       1.000000       1.000000       4.000000   \n",
       "\n",
       "        SMS_received  \n",
       "count  110527.000000  \n",
       "mean        0.321026  \n",
       "std         0.466873  \n",
       "min         0.000000  \n",
       "25%         0.000000  \n",
       "50%         0.000000  \n",
       "75%         1.000000  \n",
       "max         1.000000  "
      ]
     },
     "execution_count": 327,
     "metadata": {},
     "output_type": "execute_result"
    }
   ],
   "source": [
    "df.describe()"
   ]
  },
  {
   "cell_type": "markdown",
   "id": "adjusted-texture",
   "metadata": {},
   "source": [
    "### Cleaning the data\n",
    "\n",
    "Before we can dive deeper, the dataset needs some cleaning:\n",
    "* Some datatypes are not adequate\n",
    "* A few column names have typos\n",
    "* Some values are out of range (age below 0, handicap different than 0 or 1*)\n",
    "* Evt. remove duplicates\n",
    "\n",
    "\\* it is unclear whether other handicap values have a significance so the data points will be dropped altogether"
   ]
  },
  {
   "cell_type": "code",
   "execution_count": 328,
   "id": "veterinary-proportion",
   "metadata": {},
   "outputs": [],
   "source": [
    "# column names as lowercase\n",
    "df.rename(columns=lambda x: x.lower(), inplace=True)"
   ]
  },
  {
   "cell_type": "code",
   "execution_count": 329,
   "id": "massive-reproduction",
   "metadata": {},
   "outputs": [],
   "source": [
    "# changing patient ID to int\n",
    "df.patientid = df.patientid.astype(\"int64\")"
   ]
  },
  {
   "cell_type": "code",
   "execution_count": 330,
   "id": "russian-weather",
   "metadata": {},
   "outputs": [],
   "source": [
    "# changing scheduledday and appointmentday to datatime and only keeping the date part\n",
    "df.scheduledday=df.scheduledday.apply(lambda x: x[:10])\n",
    "df.scheduledday=pd.to_datetime(df.scheduledday)\n",
    "\n",
    "df.appointmentday=df.appointmentday.apply(lambda x: x[:10])\n",
    "df.appointmentday=pd.to_datetime(df.appointmentday)"
   ]
  },
  {
   "cell_type": "code",
   "execution_count": 331,
   "id": "altered-bolivia",
   "metadata": {},
   "outputs": [],
   "source": [
    "# renaming columns\n",
    "df.rename(columns={\"hipertension\": \"hypertension\", \"handcap\": \"handicap\"}, inplace=True)"
   ]
  },
  {
   "cell_type": "code",
   "execution_count": 332,
   "id": "invisible-adobe",
   "metadata": {},
   "outputs": [
    {
     "data": {
      "text/html": [
       "<div>\n",
       "<style scoped>\n",
       "    .dataframe tbody tr th:only-of-type {\n",
       "        vertical-align: middle;\n",
       "    }\n",
       "\n",
       "    .dataframe tbody tr th {\n",
       "        vertical-align: top;\n",
       "    }\n",
       "\n",
       "    .dataframe thead th {\n",
       "        text-align: right;\n",
       "    }\n",
       "</style>\n",
       "<table border=\"1\" class=\"dataframe\">\n",
       "  <thead>\n",
       "    <tr style=\"text-align: right;\">\n",
       "      <th></th>\n",
       "      <th>patientid</th>\n",
       "      <th>appointmentid</th>\n",
       "      <th>gender</th>\n",
       "      <th>scheduledday</th>\n",
       "      <th>appointmentday</th>\n",
       "      <th>age</th>\n",
       "      <th>neighbourhood</th>\n",
       "      <th>scholarship</th>\n",
       "      <th>hypertension</th>\n",
       "      <th>diabetes</th>\n",
       "      <th>alcoholism</th>\n",
       "      <th>handicap</th>\n",
       "      <th>sms_received</th>\n",
       "      <th>no-show</th>\n",
       "    </tr>\n",
       "  </thead>\n",
       "  <tbody>\n",
       "    <tr>\n",
       "      <th>99832</th>\n",
       "      <td>465943158731293</td>\n",
       "      <td>5775010</td>\n",
       "      <td>F</td>\n",
       "      <td>2016-06-06</td>\n",
       "      <td>2016-06-06</td>\n",
       "      <td>-1</td>\n",
       "      <td>ROMÃO</td>\n",
       "      <td>0</td>\n",
       "      <td>0</td>\n",
       "      <td>0</td>\n",
       "      <td>0</td>\n",
       "      <td>0</td>\n",
       "      <td>0</td>\n",
       "      <td>No</td>\n",
       "    </tr>\n",
       "  </tbody>\n",
       "</table>\n",
       "</div>"
      ],
      "text/plain": [
       "             patientid  appointmentid gender scheduledday appointmentday  age  \\\n",
       "99832  465943158731293        5775010      F   2016-06-06     2016-06-06   -1   \n",
       "\n",
       "      neighbourhood  scholarship  hypertension  diabetes  alcoholism  \\\n",
       "99832         ROMÃO            0             0         0           0   \n",
       "\n",
       "       handicap  sms_received no-show  \n",
       "99832         0             0      No  "
      ]
     },
     "execution_count": 332,
     "metadata": {},
     "output_type": "execute_result"
    }
   ],
   "source": [
    "# invalid age values\n",
    "df[df.age<0]"
   ]
  },
  {
   "cell_type": "markdown",
   "id": "narrow-therapy",
   "metadata": {},
   "source": [
    "-1 is an invalid age but instead of dropping the row altogether, we will replace it by the mean value of the rest of the age data."
   ]
  },
  {
   "cell_type": "code",
   "execution_count": 333,
   "id": "included-bangladesh",
   "metadata": {},
   "outputs": [],
   "source": [
    "mean_age = df[df.age>=0][\"age\"].mean()\n",
    "df.age=df.age.replace(-1,mean_age)"
   ]
  },
  {
   "cell_type": "code",
   "execution_count": 334,
   "id": "agreed-massage",
   "metadata": {},
   "outputs": [],
   "source": [
    "df.age=df.age.astype(\"int64\")"
   ]
  },
  {
   "cell_type": "code",
   "execution_count": 335,
   "id": "ecological-toilet",
   "metadata": {
    "scrolled": true
   },
   "outputs": [
    {
     "data": {
      "text/plain": [
       "199"
      ]
     },
     "execution_count": 335,
     "metadata": {},
     "output_type": "execute_result"
    }
   ],
   "source": [
    "#invalid handicap values\n",
    "df[df.handicap>1][\"handicap\"].size"
   ]
  },
  {
   "cell_type": "markdown",
   "id": "champion-finnish",
   "metadata": {},
   "source": [
    "The invalid handicap values represent 199 data points, i.e. 0.2% of the total data. This should have minimal impact on the analysis."
   ]
  },
  {
   "cell_type": "code",
   "execution_count": 336,
   "id": "contrary-renewal",
   "metadata": {},
   "outputs": [],
   "source": [
    "df = df.loc[df.handicap<=1]"
   ]
  },
  {
   "cell_type": "code",
   "execution_count": 337,
   "id": "comparative-collar",
   "metadata": {},
   "outputs": [
    {
     "data": {
      "text/plain": [
       "0"
      ]
     },
     "execution_count": 337,
     "metadata": {},
     "output_type": "execute_result"
    }
   ],
   "source": [
    "# search for duplicates and drop them\n",
    "sum(df.duplicated())"
   ]
  },
  {
   "cell_type": "code",
   "execution_count": 338,
   "id": "corrected-shelter",
   "metadata": {
    "scrolled": true
   },
   "outputs": [
    {
     "data": {
      "text/plain": [
       "patientid                  int64\n",
       "appointmentid              int64\n",
       "gender                    object\n",
       "scheduledday      datetime64[ns]\n",
       "appointmentday    datetime64[ns]\n",
       "age                        int64\n",
       "neighbourhood             object\n",
       "scholarship                int64\n",
       "hypertension               int64\n",
       "diabetes                   int64\n",
       "alcoholism                 int64\n",
       "handicap                   int64\n",
       "sms_received               int64\n",
       "no-show                   object\n",
       "dtype: object"
      ]
     },
     "execution_count": 338,
     "metadata": {},
     "output_type": "execute_result"
    }
   ],
   "source": [
    "# resulting clean dataset\n",
    "df.dtypes"
   ]
  },
  {
   "cell_type": "code",
   "execution_count": 339,
   "id": "outstanding-transportation",
   "metadata": {
    "scrolled": true
   },
   "outputs": [
    {
     "data": {
      "text/html": [
       "<div>\n",
       "<style scoped>\n",
       "    .dataframe tbody tr th:only-of-type {\n",
       "        vertical-align: middle;\n",
       "    }\n",
       "\n",
       "    .dataframe tbody tr th {\n",
       "        vertical-align: top;\n",
       "    }\n",
       "\n",
       "    .dataframe thead th {\n",
       "        text-align: right;\n",
       "    }\n",
       "</style>\n",
       "<table border=\"1\" class=\"dataframe\">\n",
       "  <thead>\n",
       "    <tr style=\"text-align: right;\">\n",
       "      <th></th>\n",
       "      <th>patientid</th>\n",
       "      <th>appointmentid</th>\n",
       "      <th>age</th>\n",
       "      <th>scholarship</th>\n",
       "      <th>hypertension</th>\n",
       "      <th>diabetes</th>\n",
       "      <th>alcoholism</th>\n",
       "      <th>handicap</th>\n",
       "      <th>sms_received</th>\n",
       "    </tr>\n",
       "  </thead>\n",
       "  <tbody>\n",
       "    <tr>\n",
       "      <th>count</th>\n",
       "      <td>1.103280e+05</td>\n",
       "      <td>1.103280e+05</td>\n",
       "      <td>110328.000000</td>\n",
       "      <td>110328.000000</td>\n",
       "      <td>110328.000000</td>\n",
       "      <td>110328.000000</td>\n",
       "      <td>110328.000000</td>\n",
       "      <td>110328.000000</td>\n",
       "      <td>110328.000000</td>\n",
       "    </tr>\n",
       "    <tr>\n",
       "      <th>mean</th>\n",
       "      <td>1.475273e+14</td>\n",
       "      <td>5.675299e+06</td>\n",
       "      <td>37.070753</td>\n",
       "      <td>0.098280</td>\n",
       "      <td>0.196831</td>\n",
       "      <td>0.071605</td>\n",
       "      <td>0.030382</td>\n",
       "      <td>0.018508</td>\n",
       "      <td>0.321179</td>\n",
       "    </tr>\n",
       "    <tr>\n",
       "      <th>std</th>\n",
       "      <td>2.561394e+14</td>\n",
       "      <td>7.129914e+04</td>\n",
       "      <td>23.097947</td>\n",
       "      <td>0.297694</td>\n",
       "      <td>0.397606</td>\n",
       "      <td>0.257833</td>\n",
       "      <td>0.171637</td>\n",
       "      <td>0.134781</td>\n",
       "      <td>0.466931</td>\n",
       "    </tr>\n",
       "    <tr>\n",
       "      <th>min</th>\n",
       "      <td>3.921700e+04</td>\n",
       "      <td>5.030230e+06</td>\n",
       "      <td>0.000000</td>\n",
       "      <td>0.000000</td>\n",
       "      <td>0.000000</td>\n",
       "      <td>0.000000</td>\n",
       "      <td>0.000000</td>\n",
       "      <td>0.000000</td>\n",
       "      <td>0.000000</td>\n",
       "    </tr>\n",
       "    <tr>\n",
       "      <th>25%</th>\n",
       "      <td>4.174654e+12</td>\n",
       "      <td>5.640278e+06</td>\n",
       "      <td>18.000000</td>\n",
       "      <td>0.000000</td>\n",
       "      <td>0.000000</td>\n",
       "      <td>0.000000</td>\n",
       "      <td>0.000000</td>\n",
       "      <td>0.000000</td>\n",
       "      <td>0.000000</td>\n",
       "    </tr>\n",
       "    <tr>\n",
       "      <th>50%</th>\n",
       "      <td>3.175389e+13</td>\n",
       "      <td>5.680568e+06</td>\n",
       "      <td>37.000000</td>\n",
       "      <td>0.000000</td>\n",
       "      <td>0.000000</td>\n",
       "      <td>0.000000</td>\n",
       "      <td>0.000000</td>\n",
       "      <td>0.000000</td>\n",
       "      <td>0.000000</td>\n",
       "    </tr>\n",
       "    <tr>\n",
       "      <th>75%</th>\n",
       "      <td>9.439381e+13</td>\n",
       "      <td>5.725510e+06</td>\n",
       "      <td>55.000000</td>\n",
       "      <td>0.000000</td>\n",
       "      <td>0.000000</td>\n",
       "      <td>0.000000</td>\n",
       "      <td>0.000000</td>\n",
       "      <td>0.000000</td>\n",
       "      <td>1.000000</td>\n",
       "    </tr>\n",
       "    <tr>\n",
       "      <th>max</th>\n",
       "      <td>9.999816e+14</td>\n",
       "      <td>5.790484e+06</td>\n",
       "      <td>115.000000</td>\n",
       "      <td>1.000000</td>\n",
       "      <td>1.000000</td>\n",
       "      <td>1.000000</td>\n",
       "      <td>1.000000</td>\n",
       "      <td>1.000000</td>\n",
       "      <td>1.000000</td>\n",
       "    </tr>\n",
       "  </tbody>\n",
       "</table>\n",
       "</div>"
      ],
      "text/plain": [
       "          patientid  appointmentid            age    scholarship  \\\n",
       "count  1.103280e+05   1.103280e+05  110328.000000  110328.000000   \n",
       "mean   1.475273e+14   5.675299e+06      37.070753       0.098280   \n",
       "std    2.561394e+14   7.129914e+04      23.097947       0.297694   \n",
       "min    3.921700e+04   5.030230e+06       0.000000       0.000000   \n",
       "25%    4.174654e+12   5.640278e+06      18.000000       0.000000   \n",
       "50%    3.175389e+13   5.680568e+06      37.000000       0.000000   \n",
       "75%    9.439381e+13   5.725510e+06      55.000000       0.000000   \n",
       "max    9.999816e+14   5.790484e+06     115.000000       1.000000   \n",
       "\n",
       "        hypertension       diabetes     alcoholism       handicap  \\\n",
       "count  110328.000000  110328.000000  110328.000000  110328.000000   \n",
       "mean        0.196831       0.071605       0.030382       0.018508   \n",
       "std         0.397606       0.257833       0.171637       0.134781   \n",
       "min         0.000000       0.000000       0.000000       0.000000   \n",
       "25%         0.000000       0.000000       0.000000       0.000000   \n",
       "50%         0.000000       0.000000       0.000000       0.000000   \n",
       "75%         0.000000       0.000000       0.000000       0.000000   \n",
       "max         1.000000       1.000000       1.000000       1.000000   \n",
       "\n",
       "        sms_received  \n",
       "count  110328.000000  \n",
       "mean        0.321179  \n",
       "std         0.466931  \n",
       "min         0.000000  \n",
       "25%         0.000000  \n",
       "50%         0.000000  \n",
       "75%         1.000000  \n",
       "max         1.000000  "
      ]
     },
     "execution_count": 339,
     "metadata": {},
     "output_type": "execute_result"
    }
   ],
   "source": [
    "df.describe()"
   ]
  },
  {
   "cell_type": "markdown",
   "id": "editorial-secondary",
   "metadata": {},
   "source": [
    "### Exploring data and visualising"
   ]
  },
  {
   "cell_type": "markdown",
   "id": "square-azerbaijan",
   "metadata": {},
   "source": [
    "#### How many appointments were missed during the analysed time period? (in percentage)"
   ]
  },
  {
   "cell_type": "code",
   "execution_count": 340,
   "id": "cellular-collapse",
   "metadata": {},
   "outputs": [
    {
     "data": {
      "text/plain": [
       "Timestamp('2016-04-29 00:00:00')"
      ]
     },
     "execution_count": 340,
     "metadata": {},
     "output_type": "execute_result"
    }
   ],
   "source": [
    "df.appointmentday.min()"
   ]
  },
  {
   "cell_type": "code",
   "execution_count": 341,
   "id": "generic-listing",
   "metadata": {},
   "outputs": [
    {
     "data": {
      "text/plain": [
       "Timestamp('2016-06-08 00:00:00')"
      ]
     },
     "execution_count": 341,
     "metadata": {},
     "output_type": "execute_result"
    }
   ],
   "source": [
    "df.appointmentday.max()"
   ]
  },
  {
   "cell_type": "code",
   "execution_count": 342,
   "id": "lesser-reverse",
   "metadata": {},
   "outputs": [
    {
     "data": {
      "text/plain": [
       "(22278, 14)"
      ]
     },
     "execution_count": 342,
     "metadata": {},
     "output_type": "execute_result"
    }
   ],
   "source": [
    "no_show = df[df[\"no-show\"]==\"Yes\"]\n",
    "no_show.shape"
   ]
  },
  {
   "cell_type": "code",
   "execution_count": 380,
   "id": "interpreted-shooting",
   "metadata": {},
   "outputs": [
    {
     "data": {
      "text/plain": [
       "20.19251685882097"
      ]
     },
     "execution_count": 380,
     "metadata": {},
     "output_type": "execute_result"
    }
   ],
   "source": [
    "no_show_rate=100*len(no_show.index)/len(df.index)\n",
    "show_rate=100-no_show_rate\n",
    "no_show_rate"
   ]
  },
  {
   "cell_type": "code",
   "execution_count": 394,
   "id": "narrow-swaziland",
   "metadata": {},
   "outputs": [
    {
     "data": {
      "image/png": "[encoded data removed]",
      "text/plain": [
       "<Figure size 432x288 with 1 Axes>"
      ]
     },
     "metadata": {},
     "output_type": "display_data"
    }
   ],
   "source": [
    "plt.pie([show_rate,no_show_rate], explode=[0,0.1], labels=[\"Showed up to appointment\", \"Did not show up to appointment\"], autopct=\"%.1f%%\", colors=[\"green\",\"red\"], startangle=35);"
   ]
  },
  {
   "cell_type": "markdown",
   "id": "precise-uruguay",
   "metadata": {},
   "source": [
    "22278 appointments were missed between April 29 and June 8, 2016, i.e. approximately 20%. This is 1 out of 5 appointments, which is significant."
   ]
  },
  {
   "cell_type": "markdown",
   "id": "nominated-lease",
   "metadata": {},
   "source": [
    "#### How are missed appointments distributed by neighbourhood?"
   ]
  },
  {
   "cell_type": "code",
   "execution_count": 344,
   "id": "interior-composition",
   "metadata": {},
   "outputs": [
    {
     "data": {
      "text/plain": [
       "81"
      ]
     },
     "execution_count": 344,
     "metadata": {},
     "output_type": "execute_result"
    }
   ],
   "source": [
    "# how many neighbourhoods?\n",
    "df[\"neighbourhood\"].nunique()"
   ]
  },
  {
   "cell_type": "markdown",
   "id": "exposed-aluminum",
   "metadata": {},
   "source": [
    "Given the large number of different neighbourhoods, we can concentrate on finding the top 10 neighbourhoods with highest number of no-shows per total scheduled appointments."
   ]
  },
  {
   "cell_type": "code",
   "execution_count": 345,
   "id": "documented-alias",
   "metadata": {
    "scrolled": true
   },
   "outputs": [],
   "source": [
    "# no-shows by neighbourhood\n",
    "no_show_neigh = no_show[\"neighbourhood\"].value_counts()"
   ]
  },
  {
   "cell_type": "code",
   "execution_count": 346,
   "id": "fifteen-nightlife",
   "metadata": {},
   "outputs": [],
   "source": [
    "# total number of appointments by neighbourhood\n",
    "appoint_neigh = df[\"neighbourhood\"].value_counts()"
   ]
  },
  {
   "cell_type": "code",
   "execution_count": 347,
   "id": "honest-shore",
   "metadata": {},
   "outputs": [
    {
     "data": {
      "text/plain": [
       "AEROPORTO              0.125000\n",
       "ANDORINHAS             0.230599\n",
       "ANTÔNIO HONÓRIO        0.184502\n",
       "ARIOVALDO FAVALESSA    0.219858\n",
       "BARRO VERMELHO         0.215130\n",
       "                         ...   \n",
       "SÃO JOSÉ               0.215915\n",
       "SÃO PEDRO              0.210440\n",
       "TABUAZEIRO             0.183243\n",
       "UNIVERSITÁRIO          0.210526\n",
       "VILA RUBIM             0.166470\n",
       "Name: neighbourhood, Length: 81, dtype: float64"
      ]
     },
     "execution_count": 347,
     "metadata": {},
     "output_type": "execute_result"
    }
   ],
   "source": [
    "# proportion of no-shows per neighbourhood\n",
    "no_show_prop_neigh=no_show_neigh.divide(appoint_neigh)\n",
    "no_show_prop_neigh"
   ]
  },
  {
   "cell_type": "code",
   "execution_count": 395,
   "id": "quality-davis",
   "metadata": {
    "scrolled": true
   },
   "outputs": [
    {
     "data": {
      "text/plain": [
       "Series([], Name: neighbourhood, dtype: float64)"
      ]
     },
     "execution_count": 395,
     "metadata": {},
     "output_type": "execute_result"
    }
   ],
   "source": [
    "# finding empty values\n",
    "no_show_prop_neigh[no_show_prop_neigh.isna()]"
   ]
  },
  {
   "cell_type": "code",
   "execution_count": 349,
   "id": "renewable-injection",
   "metadata": {},
   "outputs": [],
   "source": [
    "no_show_prop_neigh[\"PARQUE INDUSTRIAL\"]=0"
   ]
  },
  {
   "cell_type": "code",
   "execution_count": 350,
   "id": "sufficient-fitting",
   "metadata": {},
   "outputs": [],
   "source": [
    "no_show_prop_neigh = no_show_prop_neigh.sort_values(ascending=False)"
   ]
  },
  {
   "cell_type": "code",
   "execution_count": 399,
   "id": "increased-little",
   "metadata": {},
   "outputs": [
    {
     "data": {
      "image/png": "[encoded data removed]",
      "text/plain": [
       "<Figure size 432x288 with 1 Axes>"
      ]
     },
     "metadata": {
      "needs_background": "light"
     },
     "output_type": "display_data"
    }
   ],
   "source": [
    "plt.barh(no_show_prop_neigh.index[:10],100*no_show_prop_neigh[:10])\n",
    "plt.plot()\n",
    "plt.xlabel(\"Percentage of no-show appointments, %\")\n",
    "plt.title(\"Top 10 neighbourhoods with highest no-show rate\");"
   ]
  },
  {
   "cell_type": "markdown",
   "id": "sweet-squad",
   "metadata": {},
   "source": [
    "The graph shows the 10 hospitals with highest proportion of no-shows per appointment. ILHAS OCEANICAS DE TRINIDADE has a 100% no-show rate, but this is to consider with a grain of salt since there are only two appointments in that neighbourhood in the dataset. Note: generally these proportions do not tell the whole story since the number of samples per neighbourhood vary greatly."
   ]
  },
  {
   "cell_type": "markdown",
   "id": "little-drama",
   "metadata": {},
   "source": [
    "#### Are men or women more likely to miss an appointment?"
   ]
  },
  {
   "cell_type": "code",
   "execution_count": 352,
   "id": "aware-tokyo",
   "metadata": {
    "scrolled": true
   },
   "outputs": [],
   "source": [
    "no_show_gender=no_show.gender.value_counts()"
   ]
  },
  {
   "cell_type": "code",
   "execution_count": 353,
   "id": "intelligent-massage",
   "metadata": {},
   "outputs": [],
   "source": [
    "df_gender=df.gender.value_counts()"
   ]
  },
  {
   "cell_type": "code",
   "execution_count": 354,
   "id": "subsequent-worry",
   "metadata": {
    "scrolled": true
   },
   "outputs": [
    {
     "data": {
      "text/plain": [
       "F    0.203092\n",
       "M    0.199756\n",
       "Name: gender, dtype: float64"
      ]
     },
     "execution_count": 354,
     "metadata": {},
     "output_type": "execute_result"
    }
   ],
   "source": [
    "no_show_gender/df_gender"
   ]
  },
  {
   "cell_type": "markdown",
   "id": "competitive-russell",
   "metadata": {},
   "source": [
    "There seems to be no significant difference between men and women for missed appointments."
   ]
  },
  {
   "cell_type": "markdown",
   "id": "monetary-peter",
   "metadata": {},
   "source": [
    "#### How do health-related issues impact the incidence of no-show appointments?"
   ]
  },
  {
   "cell_type": "code",
   "execution_count": 405,
   "id": "short-thomas",
   "metadata": {},
   "outputs": [],
   "source": [
    "def propVarDataframe(df,col):\n",
    "    return 100*len(df[df[col]==1].index)/len(df.index)"
   ]
  },
  {
   "cell_type": "code",
   "execution_count": 406,
   "id": "middle-elizabeth",
   "metadata": {},
   "outputs": [],
   "source": [
    "# proportion of health issues in no-show population\n",
    "no_health_issue_noshow = 100*len(no_show[(no_show.handicap==0) & (no_show.diabetes==0) & (no_show.hypertension==0) & (no_show.alcoholism==0)])/len(no_show.index)\n",
    "handicap_noshow = propVarDataframe(no_show,\"handicap\")\n",
    "diabetes_noshow = propVarDataframe(no_show,\"diabetes\")\n",
    "hypertension_noshow = propVarDataframe(no_show,\"hypertension\")\n",
    "alcoholism_noshow = propVarDataframe(no_show,\"alcoholism\")"
   ]
  },
  {
   "cell_type": "code",
   "execution_count": 407,
   "id": "under-burton",
   "metadata": {},
   "outputs": [],
   "source": [
    "# proportion of health issues in general population\n",
    "no_health_issue_general = 100*len(df[(df.handicap==0) & (df.diabetes==0) & (df.hypertension==0) & (df.alcoholism==0)])/len(df.index)\n",
    "handicap_general = propVarDataframe(df,\"handicap\")\n",
    "diabetes_general = propVarDataframe(df,\"diabetes\")\n",
    "hypertension_general = propVarDataframe(no_show,\"hypertension\")\n",
    "alcoholism_general = propVarDataframe(no_show,\"alcoholism\")"
   ]
  },
  {
   "cell_type": "code",
   "execution_count": 374,
   "id": "veterinary-better",
   "metadata": {},
   "outputs": [
    {
     "data": {
      "image/png": "[encoded data removed]",
      "text/plain": [
       "<Figure size 432x288 with 1 Axes>"
      ]
     },
     "metadata": {
      "needs_background": "light"
     },
     "output_type": "display_data"
    }
   ],
   "source": [
    "labels = [\"no health issues\",\"hypertension\",\"diabetes\",\"alcoholism\",\"handicap\"]\n",
    "x = np.arange(len(labels))\n",
    "width = 0.2\n",
    "plt.bar(x-width/2,[no_health_issue_general,hypertension_general,diabetes_general,alcoholism_general,handicap_general],width=width,tick_label=labels,label=\"% of general dataset\")\n",
    "plt.bar(x,[no_health_issue_noshow,hypertension_noshow,diabetes_noshow,alcoholism_noshow,handicap_noshow],width=width,tick_label=labels,align=\"edge\", label=\"% of no-show subset\")\n",
    "plt.xticks(rotation=90)\n",
    "plt.xlabel(\"Health issues\")\n",
    "plt.ylabel(\"Proportion, %\")\n",
    "plt.title(\"Impact of health issues on the incidence of no-show\")\n",
    "plt.legend();"
   ]
  },
  {
   "cell_type": "markdown",
   "id": "about-vacuum",
   "metadata": {},
   "source": [
    "It looks like people with no health-related issues are in fact slightly over-represented in the no-show subset compared to the general dataset. Note that the proportions add up to more than 1 (100%) because some people have more than one health issue."
   ]
  },
  {
   "cell_type": "markdown",
   "id": "vocal-state",
   "metadata": {},
   "source": [
    "#### Are people with lower social welfare more likely to miss appointments?"
   ]
  },
  {
   "cell_type": "code",
   "execution_count": 411,
   "id": "medieval-pavilion",
   "metadata": {},
   "outputs": [],
   "source": [
    "def comparePropDataframes(no_show,df,col):\n",
    "    no_var=100*len(no_show[no_show[col]==0].index)/len(df[df[col]==0].index)\n",
    "    yes_var=100*len(no_show[no_show[col]==1].index)/len(df[df[col]==1].index)\n",
    "    return (no_var, yes_var)"
   ]
  },
  {
   "cell_type": "code",
   "execution_count": 412,
   "id": "raised-kennedy",
   "metadata": {},
   "outputs": [
    {
     "data": {
      "text/plain": [
       "23.76648529004888"
      ]
     },
     "execution_count": 412,
     "metadata": {},
     "output_type": "execute_result"
    }
   ],
   "source": [
    "# calculating proportion of no-shows in the population receiving financial aid and the population not receiving it\n",
    "no_scholarship_noshow, scholarship_noshow = comparePropDataframes(no_show,df,\"scholarship\")\n",
    "scholarship_noshow"
   ]
  },
  {
   "cell_type": "code",
   "execution_count": 413,
   "id": "lined-budapest",
   "metadata": {},
   "outputs": [
    {
     "data": {
      "text/plain": [
       "19.8029853746796"
      ]
     },
     "execution_count": 413,
     "metadata": {},
     "output_type": "execute_result"
    }
   ],
   "source": [
    "no_scholarship_noshow"
   ]
  },
  {
   "cell_type": "code",
   "execution_count": 414,
   "id": "outdoor-miracle",
   "metadata": {},
   "outputs": [
    {
     "data": {
      "image/png": "[encoded data removed]",
      "text/plain": [
       "<Figure size 432x288 with 1 Axes>"
      ]
     },
     "metadata": {
      "needs_background": "light"
     },
     "output_type": "display_data"
    }
   ],
   "source": [
    "plt.bar([\"All\", \"No scolarship\", \"Scholarship\"],[no_show_rate,no_scholarship_noshow,scholarship_noshow])\n",
    "plt.title(\"Proportion of no-shows depending on enrollment in Bolsa Familia\")\n",
    "plt.ylabel(\"Proportion, %\");"
   ]
  },
  {
   "cell_type": "markdown",
   "id": "informed-terrorism",
   "metadata": {},
   "source": [
    "It would appear that people with lower social welfare, enrolled in Bolsa Familia, have a higher tendency (23,8 %) to miss appointments compared to the entire dataset (20,2 %) and compared to people not enrolled (19.8 %)."
   ]
  },
  {
   "cell_type": "markdown",
   "id": "comic-asian",
   "metadata": {},
   "source": [
    "#### Does getting a SMS increase attendance to appointments?"
   ]
  },
  {
   "cell_type": "code",
   "execution_count": 415,
   "id": "guilty-pulse",
   "metadata": {},
   "outputs": [],
   "source": [
    "no_sms_noshow, sms_noshow = comparePropDataframes(no_show,df,\"sms_received\")"
   ]
  },
  {
   "cell_type": "code",
   "execution_count": 416,
   "id": "running-kitty",
   "metadata": {},
   "outputs": [
    {
     "data": {
      "text/plain": [
       "27.58572033300409"
      ]
     },
     "execution_count": 416,
     "metadata": {},
     "output_type": "execute_result"
    }
   ],
   "source": [
    "sms_noshow"
   ]
  },
  {
   "cell_type": "code",
   "execution_count": 417,
   "id": "broadband-boards",
   "metadata": {},
   "outputs": [
    {
     "data": {
      "text/plain": [
       "16.694484130693123"
      ]
     },
     "execution_count": 417,
     "metadata": {},
     "output_type": "execute_result"
    }
   ],
   "source": [
    "no_sms_noshow"
   ]
  },
  {
   "cell_type": "code",
   "execution_count": 418,
   "id": "recognized-threat",
   "metadata": {},
   "outputs": [
    {
     "data": {
      "image/png": "[encoded data removed]",
      "text/plain": [
       "<Figure size 432x288 with 1 Axes>"
      ]
     },
     "metadata": {
      "needs_background": "light"
     },
     "output_type": "display_data"
    }
   ],
   "source": [
    "plt.bar([\"All\", \"Received SMS\", \"Didn't receive SMS\"],[no_show_rate,sms_noshow,no_sms_noshow])\n",
    "plt.title(\"Proportion of no-shows depending on whether they received a SMS or not\")\n",
    "plt.ylabel(\"Proportion, %\");"
   ]
  },
  {
   "cell_type": "markdown",
   "id": "worldwide-wealth",
   "metadata": {},
   "source": [
    "Surprisingly, the data would suggest that getting a SMS increases the chance for a person to not show up to their appointment. Of all people getting a SMS, nearly 28% do not show up to their appointment, 8 points above the rate in the entire data population, against 17% for all people not getting a SMS. It is odd that getting an SMS (reminder? confirmation of scheduling?) would negatively affect the attendance to appointments. I would expect neutral or positive effect. It is difficult to explain this result especially when little is know about the SMS system. "
   ]
  },
  {
   "cell_type": "markdown",
   "id": "automatic-montgomery",
   "metadata": {},
   "source": [
    "#### Is the amount of time between planning the appointment and the appointment itself impact the risk of no-show?"
   ]
  },
  {
   "cell_type": "code",
   "execution_count": 363,
   "id": "paperback-comment",
   "metadata": {},
   "outputs": [],
   "source": [
    "# creating a new column, weeks_between, based on the dates in the dataframe\n",
    "df['weeks_between'] = (df['appointmentday'] - df['scheduledday']).dt.days//7"
   ]
  },
  {
   "cell_type": "code",
   "execution_count": 364,
   "id": "controversial-wayne",
   "metadata": {},
   "outputs": [
    {
     "data": {
      "text/plain": [
       "0         0\n",
       "1         0\n",
       "2         0\n",
       "3         0\n",
       "4         0\n",
       "         ..\n",
       "110522    5\n",
       "110523    5\n",
       "110524    5\n",
       "110525    5\n",
       "110526    5\n",
       "Name: weeks_between, Length: 110328, dtype: int64"
      ]
     },
     "execution_count": 364,
     "metadata": {},
     "output_type": "execute_result"
    }
   ],
   "source": [
    "df['weeks_between']"
   ]
  },
  {
   "cell_type": "code",
   "execution_count": 365,
   "id": "intelligent-valley",
   "metadata": {},
   "outputs": [],
   "source": [
    "# updating no_show dataframe\n",
    "no_show = df[df[\"no-show\"]==\"Yes\"]"
   ]
  },
  {
   "cell_type": "code",
   "execution_count": 366,
   "id": "former-ultimate",
   "metadata": {},
   "outputs": [],
   "source": [
    "noshow_weeks_rate = no_show[\"weeks_between\"].value_counts()/df[\"weeks_between\"].value_counts()"
   ]
  },
  {
   "cell_type": "code",
   "execution_count": 378,
   "id": "addressed-newton",
   "metadata": {},
   "outputs": [
    {
     "data": {
      "image/png": "[encoded data removed]",
      "text/plain": [
       "<Figure size 432x288 with 1 Axes>"
      ]
     },
     "metadata": {
      "needs_background": "light"
     },
     "output_type": "display_data"
    }
   ],
   "source": [
    "plt.bar(noshow_weeks_rate.index[1:],100*noshow_weeks_rate[1:])\n",
    "plt.xlabel(\"Full weeks between time of booking and appointment day\")\n",
    "plt.ylabel(\"Proportion of no-show, %\")\n",
    "plt.title(\"Influence of time between booking and appointment on the incidence of no-show\");"
   ]
  },
  {
   "cell_type": "markdown",
   "id": "sophisticated-furniture",
   "metadata": {},
   "source": [
    "Though it is not possible to make a definite conclusion based solely on this graph, it does appear that the more days between the booting time and the appointment itself, the higher the chance for no-show.\n",
    "\n",
    "Note: a data error was noticed, where some data points show the booking date after the appointment date. These were not shown on the graph."
   ]
  },
  {
   "cell_type": "markdown",
   "id": "corresponding-advocate",
   "metadata": {},
   "source": [
    "### Observations\n",
    "\n",
    "Although this analysis does not make use of inferential statistics and is as such tentative, it draws our attention to several factors worth looking more into when trying to increase appointments attendance:\n",
    "* Individuals enrolled in Bolsa Familia, i.e. with lower social welfare, are more likely by 5 points to miss a booked appointment.\n",
    "* The more time pass between the booking and the actual appointment date, the higher risk for no-show.\n",
    "* Surprisingly, the influence of sending SMS to the patients seems to negatively impact attendance to appointments. This seems very counterintuitive and calls for checking if the data is accurate in this respect. Other data analysts/scientists have questioned this on Kaggle."
   ]
  },
  {
   "cell_type": "code",
   "execution_count": null,
   "id": "derived-organizer",
   "metadata": {},
   "outputs": [],
   "source": []
  }
 ],
 "metadata": {
  "kernelspec": {
   "display_name": "Python 3",
   "language": "python",
   "name": "python3"
  },
  "language_info": {
   "codemirror_mode": {
    "name": "ipython",
    "version": 3
   },
   "file_extension": ".py",
   "mimetype": "text/x-python",
   "name": "python",
   "nbconvert_exporter": "python",
   "pygments_lexer": "ipython3",
   "version": "3.8.8"
  }
 },
 "nbformat": 4,
 "nbformat_minor": 5
}
